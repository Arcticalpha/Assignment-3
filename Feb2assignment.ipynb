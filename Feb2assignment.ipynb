{
  "cells": [
    {
      "cell_type": "markdown",
      "id": "dd77e76b-5c85-460d-9951-414b3dd23c87",
      "metadata": {
        "id": "dd77e76b-5c85-460d-9951-414b3dd23c87"
      },
      "source": [
        "Q1. Explain with an example each when to use a for loop and a while loop."
      ]
    },
    {
      "cell_type": "markdown",
      "id": "bd7acb54-5fb9-4658-89aa-844675750031",
      "metadata": {
        "id": "bd7acb54-5fb9-4658-89aa-844675750031"
      },
      "source": [
        "A for loop is used when we know how many times you want to repeat a block of code.\n",
        "A while loop is used when we want to repeat a block of code until a certain condition is met."
      ]
    },
    {
      "cell_type": "code",
      "execution_count": 1,
      "id": "e5809de5-fe2a-423a-84c9-69af8398f2e3",
      "metadata": {
        "tags": [],
        "colab": {
          "base_uri": "https://localhost:8080/"
        },
        "id": "e5809de5-fe2a-423a-84c9-69af8398f2e3",
        "outputId": "f5a7a67d-8cb9-4ac8-bfd0-a663978fa87d"
      },
      "outputs": [
        {
          "output_type": "stream",
          "name": "stdout",
          "text": [
            "h\n",
            "e\n",
            "l\n",
            "l\n",
            "o\n",
            " \n",
            "w\n",
            "o\n",
            "r\n",
            "l\n",
            "d\n"
          ]
        }
      ],
      "source": [
        "#For loop example\n",
        "s = \"hello world\"\n",
        "for i in s:\n",
        "    print(i)"
      ]
    },
    {
      "cell_type": "code",
      "execution_count": 2,
      "id": "013d523c-fca0-4ca3-a800-1b56e389d757",
      "metadata": {
        "colab": {
          "base_uri": "https://localhost:8080/"
        },
        "id": "013d523c-fca0-4ca3-a800-1b56e389d757",
        "outputId": "1d49b779-87c2-4eae-db03-8e6e819c525b"
      },
      "outputs": [
        {
          "output_type": "stream",
          "name": "stdout",
          "text": [
            "Enter your password: secret\n",
            "Welcome!\n"
          ]
        }
      ],
      "source": [
        "#while loop example\n",
        "password = \"secret\"\n",
        "\n",
        "while True:\n",
        "    user_input = input(\"Enter your password: \")\n",
        "    if user_input == password:\n",
        "        print(\"Welcome!\")\n",
        "        break\n",
        "    else:\n",
        "        print(\"Incorrect password. Please try again.\")\n"
      ]
    },
    {
      "cell_type": "markdown",
      "id": "f36222fc-142f-43e6-8014-5458697a89a0",
      "metadata": {
        "id": "f36222fc-142f-43e6-8014-5458697a89a0"
      },
      "source": [
        "Q2. Write a python program to print the sum and product of the first 10 natural numbers using for\n",
        "and while loop."
      ]
    },
    {
      "cell_type": "code",
      "execution_count": 3,
      "id": "072ed517-ac7a-4f3b-b8d0-18ff7c5eef99",
      "metadata": {
        "colab": {
          "base_uri": "https://localhost:8080/"
        },
        "id": "072ed517-ac7a-4f3b-b8d0-18ff7c5eef99",
        "outputId": "7aa6de53-4c96-4abc-e94e-421a29fb311f"
      },
      "outputs": [
        {
          "output_type": "stream",
          "name": "stdout",
          "text": [
            "Sum 55\n",
            "Product 3628800\n"
          ]
        }
      ],
      "source": [
        "#using for loop \n",
        "sum_of = 0\n",
        "prod_of = 1\n",
        "for i in range(1,11):\n",
        "    sum_of += i\n",
        "    prod_of *= i\n",
        "    \n",
        "print(\"Sum\",sum_of)\n",
        "print(\"Product\",prod_of)\n",
        "    "
      ]
    },
    {
      "cell_type": "code",
      "execution_count": 4,
      "id": "4147fddd-3a6a-4d20-a711-cd30404969e3",
      "metadata": {
        "colab": {
          "base_uri": "https://localhost:8080/"
        },
        "id": "4147fddd-3a6a-4d20-a711-cd30404969e3",
        "outputId": "845196cb-c381-45f7-d743-bacdb160a52f"
      },
      "outputs": [
        {
          "output_type": "stream",
          "name": "stdout",
          "text": [
            "Sum: 55\n",
            "Product: 3628800\n"
          ]
        }
      ],
      "source": [
        "#using while loop\n",
        "\n",
        "sum_of = 0\n",
        "product_of = 1\n",
        "i = 1\n",
        "\n",
        "while i <= 10:\n",
        "    sum_of += i\n",
        "    product_of *= i\n",
        "    i += 1\n",
        "\n",
        "print(\"Sum:\", sum_of)\n",
        "print(\"Product:\", product_of)\n"
      ]
    },
    {
      "cell_type": "markdown",
      "id": "a1d2ddd7-1cdd-47e3-8286-471238559800",
      "metadata": {
        "id": "a1d2ddd7-1cdd-47e3-8286-471238559800"
      },
      "source": [
        "Q3. Create a python program to compute the electricity bill for a household.\n",
        "\n",
        "The per-unit charges in rupees are as follows: For the first 100 units, the user will be charged Rs. 4.5 per\n",
        "unit, for the next 100 units, the user will be charged Rs. 6 per unit, and for the next 100 units, the user will\n",
        "be charged Rs. 10 per unit, After 300 units and above the user will be charged Rs. 20 per unit.\n",
        "You are required to take the units of electricity consumed in a month from the user as input.\n",
        "Your program must pass this test case: when the unit of electricity consumed by the user in a month is\n",
        "310, the total electricity bill should be 2250."
      ]
    },
    {
      "cell_type": "code",
      "execution_count": 5,
      "id": "e6c75f13-48a1-4344-9f0b-b8de9bad11da",
      "metadata": {
        "colab": {
          "base_uri": "https://localhost:8080/"
        },
        "id": "e6c75f13-48a1-4344-9f0b-b8de9bad11da",
        "outputId": "8324e014-389c-4098-e0c1-98447d03c9bc"
      },
      "outputs": [
        {
          "output_type": "stream",
          "name": "stdout",
          "text": [
            "Enter units: 310\n",
            "Electricity bill: Rs. 2250.0\n"
          ]
        }
      ],
      "source": [
        "units = int(input(\"Enter units: \"))\n",
        "\n",
        "if units <= 100:\n",
        "    bill = units * 4.5\n",
        "elif units <= 200:\n",
        "    bill = 100 * 4.5 + (units - 100) * 6\n",
        "elif units <= 300:\n",
        "    bill = 100 * 4.5 + 100 * 6 + (units - 200) * 10\n",
        "else:\n",
        "    bill = 100 * 4.5 + 100 * 6 + 100 * 10 + (units - 300) * 20\n",
        "\n",
        "print(\"Electricity bill: Rs.\", bill)\n"
      ]
    },
    {
      "cell_type": "markdown",
      "id": "04f921fa-5f84-4e4b-b316-f98a8fec4c1e",
      "metadata": {
        "id": "04f921fa-5f84-4e4b-b316-f98a8fec4c1e"
      },
      "source": [
        "Q4. Create a list of numbers from 1 to 100. Use for loop and while loop to calculate the cube of each\n",
        "number and if the cube of that number is divisible by 4 or 5 then append that number in a list and print\n",
        "that list."
      ]
    },
    {
      "cell_type": "code",
      "execution_count": 6,
      "id": "344aa1db-68f9-4fde-aa96-61f5431e528f",
      "metadata": {
        "colab": {
          "base_uri": "https://localhost:8080/"
        },
        "id": "344aa1db-68f9-4fde-aa96-61f5431e528f",
        "outputId": "7d061658-2d4e-45d7-df5d-3979bcaae858"
      },
      "outputs": [
        {
          "output_type": "stream",
          "name": "stdout",
          "text": [
            "[2, 4, 5, 6, 8, 10, 12, 14, 15, 16, 18, 20, 22, 24, 25, 26, 28, 30, 32, 34, 35, 36, 38, 40, 42, 44, 45, 46, 48, 50, 52, 54, 55, 56, 58, 60, 62, 64, 65, 66, 68, 70, 72, 74, 75, 76, 78, 80, 82, 84, 85, 86, 88, 90, 92, 94, 95, 96, 98, 100]\n"
          ]
        }
      ],
      "source": [
        "# using for loop\n",
        "number = [i for i in range(1, 101)]\n",
        "div_list = []\n",
        "\n",
        "\n",
        "for i in number:\n",
        "    cube = i ** 3\n",
        "    if cube % 4 == 0 or cube % 5 == 0:\n",
        "        div_list.append(i)\n",
        "\n",
        "print(div_list)\n"
      ]
    },
    {
      "cell_type": "code",
      "execution_count": 12,
      "id": "801f0b8f-b524-42cf-8a29-fa228c381507",
      "metadata": {
        "colab": {
          "base_uri": "https://localhost:8080/"
        },
        "id": "801f0b8f-b524-42cf-8a29-fa228c381507",
        "outputId": "3648022d-476e-4d74-c968-107bfdbb3851"
      },
      "outputs": [
        {
          "output_type": "stream",
          "name": "stdout",
          "text": [
            "[2, 4, 5, 6, 8, 10, 12, 14, 15, 16, 18, 20, 22, 24, 25, 26, 28, 30, 32, 34, 35, 36, 38, 40, 42, 44, 45, 46, 48, 50, 52, 54, 55, 56, 58, 60, 62, 64, 65, 66, 68, 70, 72, 74, 75, 76, 78, 80, 82, 84, 85, 86, 88, 90, 92, 94, 95, 96, 98, 100]\n"
          ]
        }
      ],
      "source": [
        "numbers = list(range(1, 101))\n",
        "divi_list = []\n",
        "\n",
        "i = 0\n",
        "while i < len(numbers):\n",
        "    cube = numbers[i] ** 3\n",
        "    if cube % 4 == 0 or cube % 5 == 0:\n",
        "        divi_list.append(numbers[i])\n",
        "    i += 1\n",
        "\n",
        "print(divi_list)\n"
      ]
    },
    {
      "cell_type": "markdown",
      "id": "55e84fa4-8700-4e88-986c-6e6a7f7c628e",
      "metadata": {
        "id": "55e84fa4-8700-4e88-986c-6e6a7f7c628e"
      },
      "source": [
        "Q5. Write a program to filter count vowels in the below-given string.\n",
        "string = \"I want to become a data scientist\""
      ]
    },
    {
      "cell_type": "code",
      "execution_count": 8,
      "id": "920f6a4d-5246-4639-b907-83a76f24cc9b",
      "metadata": {
        "colab": {
          "base_uri": "https://localhost:8080/"
        },
        "id": "920f6a4d-5246-4639-b907-83a76f24cc9b",
        "outputId": "f26f5a86-9a8b-4a8f-897e-daf4536d3015"
      },
      "outputs": [
        {
          "output_type": "stream",
          "name": "stdout",
          "text": [
            "The number of vowels in s are:  12\n"
          ]
        }
      ],
      "source": [
        "count_vowels = 0\n",
        "s = \"I want to become a data scientist\"\n",
        "vowels = \"aeiouAEIOU\"\n",
        "for char in s:\n",
        "    if char in vowels:\n",
        "        count_vowels += 1\n",
        "print(\"The number of vowels in s are: \",count_vowels)"
      ]
    },
    {
      "cell_type": "code",
      "execution_count": null,
      "id": "6189c28a-7bcc-4784-a2d4-67fdbf888bb6",
      "metadata": {
        "id": "6189c28a-7bcc-4784-a2d4-67fdbf888bb6"
      },
      "outputs": [],
      "source": []
    }
  ],
  "metadata": {
    "kernelspec": {
      "display_name": "Python 3 (ipykernel)",
      "language": "python",
      "name": "python3"
    },
    "language_info": {
      "codemirror_mode": {
        "name": "ipython",
        "version": 3
      },
      "file_extension": ".py",
      "mimetype": "text/x-python",
      "name": "python",
      "nbconvert_exporter": "python",
      "pygments_lexer": "ipython3",
      "version": "3.10.8"
    },
    "colab": {
      "provenance": []
    }
  },
  "nbformat": 4,
  "nbformat_minor": 5
}